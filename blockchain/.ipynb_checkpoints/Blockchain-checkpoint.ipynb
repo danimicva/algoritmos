{
 "cells": [
  {
   "cell_type": "code",
   "execution_count": 11,
   "id": "548f5f79-827c-4a8a-9b6d-0726a837c0ba",
   "metadata": {},
   "outputs": [
    {
     "name": "stdout",
     "output_type": "stream",
     "text": [
      "Blockchain: \n"
     ]
    },
    {
     "ename": "NameError",
     "evalue": "name 'block' is not defined",
     "output_type": "error",
     "traceback": [
      "\u001b[0;31m---------------------------------------------------------------------------\u001b[0m",
      "\u001b[0;31mNameError\u001b[0m                                 Traceback (most recent call last)",
      "Cell \u001b[0;32mIn[11], line 40\u001b[0m\n\u001b[1;32m     37\u001b[0m bc\u001b[38;5;241m.\u001b[39madd_block(\u001b[38;5;124m'\u001b[39m\u001b[38;5;124mHeHeHe\u001b[39m\u001b[38;5;124m'\u001b[39m)\n\u001b[1;32m     38\u001b[0m bc\u001b[38;5;241m.\u001b[39madd_block(\u001b[38;5;124m'\u001b[39m\u001b[38;5;124mHiHiHi\u001b[39m\u001b[38;5;124m'\u001b[39m)\n\u001b[0;32m---> 40\u001b[0m \u001b[43mbc\u001b[49m\u001b[38;5;241;43m.\u001b[39;49m\u001b[43mprint\u001b[49m\u001b[43m(\u001b[49m\u001b[43m)\u001b[49m\n",
      "Cell \u001b[0;32mIn[11], line 33\u001b[0m, in \u001b[0;36mBlockChain.print\u001b[0;34m(self)\u001b[0m\n\u001b[1;32m     31\u001b[0m \u001b[38;5;28mprint\u001b[39m(\u001b[38;5;124m\"\u001b[39m\u001b[38;5;124mBlockchain: \u001b[39m\u001b[38;5;124m\"\u001b[39m)\n\u001b[1;32m     32\u001b[0m \u001b[38;5;28;01mfor\u001b[39;00m block \u001b[38;5;129;01min\u001b[39;00m \u001b[38;5;28mself\u001b[39m\u001b[38;5;241m.\u001b[39mchain:\n\u001b[0;32m---> 33\u001b[0m     \u001b[38;5;28mprint\u001b[39m(\u001b[43mblock\u001b[49m\u001b[38;5;241;43m.\u001b[39;49m\u001b[43mto_string\u001b[49m\u001b[43m(\u001b[49m\u001b[43m)\u001b[49m)\n",
      "Cell \u001b[0;32mIn[11], line 18\u001b[0m, in \u001b[0;36mBlock.to_string\u001b[0;34m(self)\u001b[0m\n\u001b[1;32m     17\u001b[0m \u001b[38;5;28;01mdef\u001b[39;00m \u001b[38;5;21mto_string\u001b[39m(\u001b[38;5;28mself\u001b[39m):\n\u001b[0;32m---> 18\u001b[0m     \u001b[38;5;28;01mreturn\u001b[39;00m \u001b[38;5;124mf\u001b[39m\u001b[38;5;124m'\u001b[39m\u001b[38;5;132;01m{\u001b[39;00mblock\u001b[38;5;241m.\u001b[39mindex\u001b[38;5;132;01m}\u001b[39;00m\u001b[38;5;124m - \u001b[39m\u001b[38;5;132;01m{\u001b[39;00mblock\u001b[38;5;241m.\u001b[39mtimestamp\u001b[38;5;132;01m}\u001b[39;00m\u001b[38;5;124m: \u001b[39m\u001b[38;5;132;01m{\u001b[39;00mblock\u001b[38;5;241m.\u001b[39mdata\u001b[38;5;132;01m}\u001b[39;00m\u001b[38;5;124m'\u001b[39m\n",
      "\u001b[0;31mNameError\u001b[0m: name 'block' is not defined"
     ]
    }
   ],
   "source": [
    "from datetime import datetime\n",
    "import json\n",
    "import hashlib\n",
    "\n",
    "def hash_block(block):\n",
    "    block_encoded = json.dumps(block.__dict__, sort_keys=True).encode()\n",
    "    return hashlib.sha256(block_encoded).hexdigest()\n",
    "\n",
    "class Block:\n",
    "    def __init__(self, index, previous_hash, data):\n",
    "        self.index = index\n",
    "        self.timestamp = str(datetime.now())\n",
    "        self.previous_hash = previous_hash\n",
    "        self.data = data\n",
    "        self.hash = hash_block(self)\n",
    "\n",
    "    def to_string(self):\n",
    "        return f'{self.index} - {self.timestamp}: {self.data}'\n",
    "\n",
    "class BlockChain:\n",
    "    \n",
    "    def __init__(self):\n",
    "        genesis_block = Block(0, None, None)\n",
    "        self.chain = [genesis_block]\n",
    "\n",
    "    def add_block(self, data):\n",
    "        block = Block(self.chain[-1].index + 1, self.chain[-1].hash, data)\n",
    "        self.chain.append(block)\n",
    "        \n",
    "    def print(self):\n",
    "        print(\"Blockchain: \")\n",
    "        for block in self.chain:\n",
    "            print(block.to_string())\n",
    "\n",
    "    \n",
    "bc = BlockChain()\n",
    "bc.add_block('HeHeHe')\n",
    "bc.add_block('HiHiHi')\n",
    "\n",
    "bc.print()"
   ]
  }
 ],
 "metadata": {
  "kernelspec": {
   "display_name": "Python 3 (ipykernel)",
   "language": "python",
   "name": "python3"
  },
  "language_info": {
   "codemirror_mode": {
    "name": "ipython",
    "version": 3
   },
   "file_extension": ".py",
   "mimetype": "text/x-python",
   "name": "python",
   "nbconvert_exporter": "python",
   "pygments_lexer": "ipython3",
   "version": "3.9.18"
  }
 },
 "nbformat": 4,
 "nbformat_minor": 5
}
