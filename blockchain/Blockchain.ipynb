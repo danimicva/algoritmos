{
 "cells": [
  {
   "cell_type": "code",
   "execution_count": 12,
   "id": "548f5f79-827c-4a8a-9b6d-0726a837c0ba",
   "metadata": {},
   "outputs": [
    {
     "name": "stdout",
     "output_type": "stream",
     "text": [
      "Blockchain: \n",
      "------------------------------------\n",
      "\n",
      "[0] 2025-02-22 14:48:07.821078: None - [00006f9c2ac33a4a176f552cca053a2cc8427a8c08005cc9dcc0f354036dcadf] - [None]\n",
      "[1] 2025-02-22 14:48:08.076309: HeHeHe - [00003d325216aade1270d493e8e4866d276d06d79dd8defbf4f1f97f9e54cd1a] - [00006f9c2ac33a4a176f552cca053a2cc8427a8c08005cc9dcc0f354036dcadf]\n",
      "[2] 2025-02-22 14:48:11.642250: HiHiHi - [0000858d343afb5918daa5dc88800fc000c24c316ff0939b3c645fcca34538f3] - [00003d325216aade1270d493e8e4866d276d06d79dd8defbf4f1f97f9e54cd1a]\n"
     ]
    }
   ],
   "source": [
    "from datetime import datetime\n",
    "import json\n",
    "import hashlib\n",
    "\n",
    "\n",
    "class Block:\n",
    "    def __init__(self, index, previous_hash, data):\n",
    "        self.index = index\n",
    "        self.timestamp = str(datetime.now())\n",
    "        self.previous_hash = previous_hash\n",
    "        self.data = data\n",
    "        self.hash = self.hash_block()\n",
    "        self.nonce = 0\n",
    "\n",
    "    def __str__(self):\n",
    "        return f'[{self.index}] {self.timestamp}: {self.data}' + \\\n",
    "        (f' - [{self.hash}] - [{self.previous_hash}]' if True else '')\n",
    "\n",
    "    def hash_block(self):\n",
    "        block_encoded = json.dumps(self.__dict__, sort_keys=True).encode()\n",
    "        return hashlib.sha256(block_encoded).hexdigest()\n",
    "\n",
    "    def mine_block(self, difficulty):\n",
    "        target = '0' * difficulty\n",
    "        while self.hash[:difficulty] != target:\n",
    "            self.nonce += 1\n",
    "            self.hash = self.hash_block()\n",
    "\n",
    "class BlockChain:\n",
    "    \n",
    "    def __init__(self, difficulty):\n",
    "        self.difficulty = difficulty\n",
    "        \n",
    "        genesis_block = Block(0, None, None)\n",
    "        genesis_block.mine_block(self.difficulty)\n",
    "        self.chain = [genesis_block]\n",
    "        \n",
    "\n",
    "    def add_block(self, data):\n",
    "        block = Block(self.chain[-1].index + 1, self.chain[-1].hash, data)\n",
    "        block.mine_block(self.difficulty)\n",
    "        self.chain.append(block)\n",
    "        \n",
    "    def print(self):\n",
    "        print(\"Blockchain: \")\n",
    "        print(\"------------------------------------\")\n",
    "        print()\n",
    "        for block in self.chain:\n",
    "            print(block)\n",
    "\n",
    "    \n",
    "bc = BlockChain(4)\n",
    "bc.add_block('HeHeHe')\n",
    "bc.add_block('HiHiHi')\n",
    "\n",
    "bc.print()"
   ]
  }
 ],
 "metadata": {
  "kernelspec": {
   "display_name": "Python 3 (ipykernel)",
   "language": "python",
   "name": "python3"
  },
  "language_info": {
   "codemirror_mode": {
    "name": "ipython",
    "version": 3
   },
   "file_extension": ".py",
   "mimetype": "text/x-python",
   "name": "python",
   "nbconvert_exporter": "python",
   "pygments_lexer": "ipython3",
   "version": "3.9.18"
  }
 },
 "nbformat": 4,
 "nbformat_minor": 5
}
